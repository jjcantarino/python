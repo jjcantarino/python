{
 "cells": [
  {
   "cell_type": "markdown",
   "metadata": {},
   "source": [
    "<div style=\"padding:30px; color: white; background-color: #0071CD\">\n",
    "<center>\n",
    "<img src=\"img/logoUB.jpeg\"></img>\n",
    "<center>\n",
    "<p>\n",
    "<h1>Algorísmica Avançada</h1>\n",
    "<h2>Pràctica 1 - Grafs </h2>\n",
    "</center>\n",
    "</p>\n",
    "</div>"
   ]
  },
  {
   "cell_type": "markdown",
   "metadata": {},
   "source": [
    "<div class=\"alert alert-info\">\n",
    "<center>\n",
    "  <h1>Introducción</h1>\n",
    "</center>"
   ]
  },
  {
   "cell_type": "code",
   "execution_count": null,
   "metadata": {
    "collapsed": false
   },
   "outputs": [],
   "source": [
    "%matplotlib inline\n",
    "import networkx as nx\n",
    "from util import get_metro_graph, draw_metro_graph, get_path_subgraph\n",
    "from test import test"
   ]
  },
  {
   "cell_type": "markdown",
   "metadata": {},
   "source": [
    "\n",
    "A lo largo de esta práctica trabajaremos con el grafo generado a partir de la red de metro de Barcelona. En este grafo los nodos representan las estaciones y los ejes las vías que van de una estación a otra. Todos los ejes tienen tres atributos:\n",
    "\n",
    "* Linea\n",
    "* Color\n",
    "* Distancia\n"
   ]
  },
  {
   "cell_type": "code",
   "execution_count": null,
   "metadata": {
    "collapsed": false
   },
   "outputs": [],
   "source": [
    "G = get_metro_graph('csv/lineasmetro.csv')\n",
    "print G.get_edge_data(*G.edges()[0])"
   ]
  },
  {
   "cell_type": "markdown",
   "metadata": {},
   "source": [
    "Por otro lado los nodos en su lugar únicamente almacenan (y se indexan) por el nombre de la estación."
   ]
  },
  {
   "cell_type": "code",
   "execution_count": null,
   "metadata": {
    "collapsed": false
   },
   "outputs": [],
   "source": [
    "print G.nodes()[0]"
   ]
  },
  {
   "cell_type": "markdown",
   "metadata": {},
   "source": [
    "# util.py\n",
    "\n",
    "En este archivo se os facilitan tres funciones que os permitiran cargar y visualizar la red de metro.\n",
    "```python\n",
    "G = get_metro_graph(location)\n",
    "# Retorna un objeto nx.Graph que corresponde al grafo de la red de metro\n",
    "# - location: ruta donde esta almacenado el archivo .csv\n",
    "\n",
    "P = get_path_subgraph(P, path)\n",
    "# Retorna un objeto tipo nx.Graph que almacena los nodos y los ejes correspondientes al\n",
    "# camino que le pasamos por parametro\n",
    "# - P: Grafo original\n",
    "# - path: Lista de nodos sobre los que queremos crear el subgrafo\n",
    "\n",
    "draw_metro_graph(G, figsize=(10,10))\n",
    "# Dibuja el grafo que le pasemos por parametro.\n",
    "# - G: Grafo de la red de metro\n",
    "# - figsize: parametro opcional que nos permite definir el tamaño de la figura\n",
    "```"
   ]
  },
  {
   "cell_type": "code",
   "execution_count": null,
   "metadata": {
    "collapsed": false
   },
   "outputs": [],
   "source": [
    "draw_metro_graph(G, figsize=(10,10))"
   ]
  },
  {
   "cell_type": "code",
   "execution_count": null,
   "metadata": {
    "collapsed": false
   },
   "outputs": [],
   "source": [
    "P = get_path_subgraph(G, [\n",
    "        'Barceloneta',\n",
    "        'Jaume I', \n",
    "        'Urquinaona', \n",
    "        'Arc de Triomf', \n",
    "        'Marina',\n",
    "        'Glories',\n",
    "        'Clot',\n",
    "        'Bac de Roda',\n",
    "        'Sant Marti'\n",
    "    ])\n",
    "\n",
    "draw_metro_graph(P)"
   ]
  },
  {
   "cell_type": "markdown",
   "metadata": {},
   "source": [
    "# test.pyc\n",
    "\n",
    "Este archivo contiene la función __test__ que servirá, a lo largo de la práctica para ir comprobando si los algoritmos implementados funcionan correctamente.\n",
    "\n",
    "```python\n",
    "    test(f_name, function)\n",
    "    # Esta función hace un test de funcional y de forma de los algoritmos implementados.\n",
    "    # - f_name: nombre de la funcion que queremos probar, a escoger: ['bfs', 'dijkstra', 'dijkstra2']\n",
    "```"
   ]
  },
  {
   "cell_type": "markdown",
   "metadata": {},
   "source": [
    "<div class=\"alert alert-info\">\n",
    "<center>\n",
    "  <h1>Contenido</h1>\n",
    "  </center><p>\n",
    "\n"
   ]
  },
  {
   "cell_type": "markdown",
   "metadata": {},
   "source": [
    "\n",
    "<div class=\"alert alert-success\" style=\"width:90%; margin:0 auto;\">\n",
    "  <h2><p>1- Breadth First Search</p></h2>\n",
    "  \n",
    "  <p>\n",
    "  En este primer apartado se propone la implementación del algoritmo _Breadth First Search_. Mediante este algoritmo pretendemos encontrar el camíno mínimo entre dos puntos del grafo.\n",
    "  </p>\n",
    "  <p>\n",
    "  Se pide una implementación iterativa del algoritmo, en la que mediante una queue realizemos una exploración expansiva. Hay que tener en cuenta que la red de metro se construye como un grafo no dirigido, así que es importante controlar el hecho de que se visiten los nodos una sola vez.\n",
    "  </p>\n",
    "  \n",
    "  <p>\n",
    "  <a href=\"https://en.wikipedia.org/wiki/Breadth-first_search\">Aquí</a> podeis encontrar mas detalles sobre la implementación y características de este algoritmo.\n",
    "  </p>\n"
   ]
  },
  {
   "cell_type": "markdown",
   "metadata": {},
   "source": [
    "<div class=\"alert alert-danger\" style=\"width:80%; margin:0 auto; padding\">\n",
    "<center><p><h3> Código </h3></p> </center> \n",
    "\n",
    "<p>\n",
    "<h3>INPUT</h3>\n",
    "<ul>\n",
    "<li>__G__: Este es el grafo (en el caso de esta practica la red de metro) que utilizaremos para buscar el camino. Debe de ser un objeto te tipo _networkx.Graph_.</li>\n",
    "<li>__origen__: Este parámetro corresponde al indice de un nodo. En este caso, como indexamos los nodos con el nombre de las paradas de Metro, deberá ser un String _(e.g. 'Tetuan')_.</li>\n",
    "<li>__destino__: El indice del nodo al que queremos llegar.</li>\n",
    "</ul>\n",
    "<br>\n",
    "<h3>OUTPUT</h3>\n",
    "El output de una funcion es un diccionario que contiene los siguientes valores\n",
    "<ul>\n",
    "<li>__ _'path'_ __: Una lista de índices correspondientes al camino encontrado del nodo inicial al nodo final __ambos nodos, inicio y final, han de estar incluidos en esta lista__.</li>\n",
    "<li>__ _'expanded'_ __: El numero de nodos que se han visitado para encontrar la solución.</li>\n",
    "<ul>\n",
    "\n",
    "</p>\n",
    "\n",
    "</div>"
   ]
  },
  {
   "cell_type": "code",
   "execution_count": null,
   "metadata": {
    "collapsed": false
   },
   "outputs": [],
   "source": [
    "def bfs(G, origen, destino):\n",
    "    return {\n",
    "        'path' : [],\n",
    "        'expanded' : 0\n",
    "    }"
   ]
  },
  {
   "cell_type": "markdown",
   "metadata": {},
   "source": [
    "<div class=\"alert alert-danger\" style=\"width:80%; margin:0 auto; padding\">\n",
    "<center><p><h3> Test </h3></p> </center> </div>"
   ]
  },
  {
   "cell_type": "code",
   "execution_count": null,
   "metadata": {
    "collapsed": false
   },
   "outputs": [],
   "source": [
    "test('bfs', bfs)"
   ]
  },
  {
   "cell_type": "markdown",
   "metadata": {},
   "source": [
    "<div class=\"alert alert-danger\" style=\"width:80%; margin:0 auto; padding\">\n",
    "<center><p><h3> Comentarios </h3></p> </center> </div>"
   ]
  },
  {
   "cell_type": "markdown",
   "metadata": {},
   "source": [
    "### _(En esta sección se os propone explicar como habeis realizado la implementación y cual es la complejidad detallada del algoritmo. Podéis contestar en este mismo bloque)_"
   ]
  },
  {
   "cell_type": "markdown",
   "metadata": {},
   "source": [
    "<div class=\"alert alert-success\" style=\"width:90%; margin:0 auto;\">\n",
    "\n",
    "  <h2><p>2- Dijkstra</p></h2>\n",
    "  \n",
    "  <p>\n",
    " En esta segunda parte de la práctica se propone que hagáis dos implementaciones del algoritmo <a href=\"https://en.wikipedia.org/wiki/Dijkstra%27s_algorithm\">Dijkstra</a>. \n",
    " <ul><li>\n",
    " **dijkstra1:** La primera consiste en el algoritmo común en el que tendremos en cuenta las distancias definidas en los edges. \n",
    " </li><li>\n",
    " **dijkstra2:** La segunda implementación es simplemente una ampliación del primer algoritmo en el que añadiremos una penalización por cambio de línea.</li>\n",
    " </ul>\n",
    "</p>\n",
    "<h3> Ejemplo _dijkstra2_</h3>\n",
    "<p>\n",
    "Para ilustrar lo que se pide en la práctica veamos como se calcularía el valor de **C** y **D** en el siguiente gráfico:\n",
    "</p>\n",
    "\n",
    "\n",
    "<p><center><img src='img/e1.png'></img></center></p>\n",
    "\n",
    "\n",
    "<p>\n",
    "<ul><li>\n",
    "**[C]** Calculamos V(B) como V(A) + d([A,B]), calculamos V(C) como V(B) + d([B,C]), ya hemos acabado.\n",
    "</li>\n",
    "<li>\n",
    "**[D]** Calculamos V(B) como V(A) + d([A,B]), calculamos V(D) como V(B) + d([B,D]), como [A,B] es linea azul y [B,D] es linea verde, añadimos una penalización por el transbordo a la que llamamos **P**. Por lo tanto, al final obtenemos que V(D) = V(B) + d([B,C]) + P\n",
    "</li>\n",
    "</ul>\n",
    "\n",
    "<br>\n",
    "-**V(X)**: Valor de X\n",
    "<br>\n",
    "-**d([X,Y])**: Distancia de X a Y\n",
    "<br>\n",
    "-**P**: Penalización por transbordo\n",
    "\n",
    "</p>\n"
   ]
  },
  {
   "cell_type": "markdown",
   "metadata": {},
   "source": [
    "<div class=\"alert alert-danger\" style=\"width:80%; margin:0 auto; padding\">\n",
    "<center><p><h3> Código </h3></p> </center>\n",
    "<p>\n",
    "<h3>INPUT</h3>\n",
    "<ul>\n",
    "<li>__G__: Este es el grafo (en el caso de esta practica la red de metro) que utilizaremos para buscar el camino. Debe de ser un objeto te tipo _networkx.Graph_.</li>\n",
    "<li>__origen__: Este parámetro corresponde al indice de un nodo. En este caso, como indexamos los nodos con el nombre de las paradas de Metro, deberá ser un String _(e.g. 'Tetuan')_.</li>\n",
    "<li>__destino__: El indice del nodo al que queremos llegar.</li>\n",
    "<li>__infinity=*(int)*__: Parámetro opcional en el que definimos que número nos va bien para utilizar como infinito en el momento de inicializar los pesos de los nodos.</li>\n",
    "<li>__penalty=*(int)*__: (_Solo necesario para dijkstra2)_ Es un numero entero que corresponde a la penalización que aplicamos al valor de un nodo cuando hay cambio de línea.\n",
    "</ul>\n",
    "<br>\n",
    "<h3>OUTPUT</h3>\n",
    "El output de una función es un diccionario que contiene los siguientes valores\n",
    "<ul>\n",
    "<li>__ _'path'_ __: Una lista de índices correspondientes al camino encontrado del nodo inicial al nodo final __ambos nodos, inicio y final, han de estar incluidos en esta lista__.</li>\n",
    "<li>__ _'expanded'_ __: El número de nodos que se han visitado para encontrar la solución.</li>\n",
    "<li>__ _'distance'_ __: La distancia del camino mínimo desde el origen hasta el destino (es decir, el valor del nodo destino).\n",
    "<ul>\n",
    "\n",
    "</p>\n",
    "</div>\n"
   ]
  },
  {
   "cell_type": "code",
   "execution_count": null,
   "metadata": {
    "collapsed": false
   },
   "outputs": [],
   "source": [
    "def dijkstra(G, origen, destino, infinity=99999999999):\n",
    "    return {\n",
    "        'path': [],\n",
    "        'expanded': 0,\n",
    "        'distance': 0\n",
    "    }"
   ]
  },
  {
   "cell_type": "code",
   "execution_count": null,
   "metadata": {
    "collapsed": true
   },
   "outputs": [],
   "source": [
    "def dijkstra2(G, origen, destino, penalty=5000000, infinity=99999999999):\n",
    "    return {\n",
    "        'path': [],\n",
    "        'expanded': 0,\n",
    "        'distance': 0\n",
    "    }"
   ]
  },
  {
   "cell_type": "markdown",
   "metadata": {},
   "source": [
    "<div class=\"alert alert-danger\" style=\"width:80%; margin:0 auto; padding\">\n",
    "<center><p><h3> Test </h3></p> </center> </div>"
   ]
  },
  {
   "cell_type": "code",
   "execution_count": null,
   "metadata": {
    "collapsed": false
   },
   "outputs": [],
   "source": [
    "test('dijkstra', dijkstra)"
   ]
  },
  {
   "cell_type": "code",
   "execution_count": null,
   "metadata": {
    "collapsed": false
   },
   "outputs": [],
   "source": [
    "test('dijkstra2', dijkstra2)"
   ]
  },
  {
   "cell_type": "markdown",
   "metadata": {},
   "source": [
    "<div class=\"alert alert-danger\" style=\"width:80%; margin:0 auto; padding\">\n",
    "<center><p><h3> Comentarios </h3></p> </center> </div>"
   ]
  },
  {
   "cell_type": "markdown",
   "metadata": {},
   "source": [
    "### _(En esta sección se os propone explicar como habeis realizado la implementación y cual es la complejidad detallada del algoritmo. Podéis contestar en este mismo bloque)_"
   ]
  },
  {
   "cell_type": "markdown",
   "metadata": {},
   "source": [
    "<div class=\"alert alert-info\">\n",
    "<center>\n",
    "  <h1>Entrega</h1>\n",
    "</center>\n",
    "<p>\n",
    "La entrega de esta práctica tiene como fecha límite el **domingo, 13 de noviembre de 2016 a las 23:55**. En el campus virtual deberéis subir este fichero con las funciones implementadas y la secciones de comentarios debidamente rellenadas. Si queréis también podéis añadir tests extras que den soporte a los comentarios realizados.\n",
    "</p>"
   ]
  }
 ],
 "metadata": {
  "kernelspec": {
   "display_name": "Python 2",
   "language": "python",
   "name": "python2"
  },
  "language_info": {
   "codemirror_mode": {
    "name": "ipython",
    "version": 2
   },
   "file_extension": ".py",
   "mimetype": "text/x-python",
   "name": "python",
   "nbconvert_exporter": "python",
   "pygments_lexer": "ipython2",
   "version": "2.7.12"
  }
 },
 "nbformat": 4,
 "nbformat_minor": 0
}
