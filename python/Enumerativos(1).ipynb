{
 "cells": [
  {
   "cell_type": "markdown",
   "metadata": {},
   "source": [
    "<div style=\"padding:30px; color: white; background-color: #0071CD\">\n",
    "<center>\n",
    "<img src=\"img/logoUB.jpeg\"></img>\n",
    "<center>\n",
    "<p>\n",
    "<h1>Algorísmica Avançada</h1>\n",
    "<h2>Práctica 2 - Enumerativos </h2>\n",
    "</center>\n",
    "</p>\n",
    "</div>"
   ]
  },
  {
   "cell_type": "markdown",
   "metadata": {},
   "source": [
    "<div class=\"alert alert-info\">\n",
    "<center>\n",
    "  <h1>Introducción</h1>\n",
    "</center>"
   ]
  },
  {
   "cell_type": "markdown",
   "metadata": {},
   "source": [
    "En esta práctica implementaremos un algoritmo de ramificación y poda para solucionar el problema de la mochila:\n",
    "\n",
    "(from Wikipedia): En algoritmia, el problema de la mochila, comúnmente abreviado por KP (del inglés Knapsack problem) es un problema de optimización combinatoria, es decir, que busca la mejor solución entre un conjunto finito de posibles soluciones a un problema. Modela una situación análoga al llenar una mochila, incapaz de soportar más de un peso determinado, con todo o parte de un conjunto de objetos, cada uno con un peso y valor específicos. Los objetos colocados en la mochila deben maximizar el valor total sin exceder el peso máximo.\n",
    "\n",
    "Supongamos que tenemos n distintos tipos de ítems, que van del 1 al n. De cada tipo de ítem se tienen q ítems disponibles (que puede ser diferente para cada ítem).\n",
    "\n",
    "Cada tipo de ítem tiene un beneficio asociado v y un peso (o volumen) w. Se asume que el beneficio y el peso no son negativos. \n",
    "\n",
    "Por otro lado se tiene una mochila, donde se pueden introducir los ítems, que soporta un peso máximo (o volumen máximo) W.\n",
    "\n",
    "El problema consiste en meter en la mochila ítems de tal forma que se maximice el valor de los ítems que contiene y siempre que no se supere el peso (o volumen) máximo que puede soportar la misma. La solución al problema vendrá dado por la secuencia de variables x1, x2, ..., xn donde el valor de xi indica cuantas copias se meterán en la mochila del tipo de ítem i."
   ]
  },
  {
   "cell_type": "markdown",
   "metadata": {},
   "source": [
    "<div class=\"alert alert-info\">\n",
    "<center>\n",
    "  <h1>Contenido</h1>\n",
    "  </center><p>\n",
    "\n"
   ]
  },
  {
   "cell_type": "markdown",
   "metadata": {},
   "source": [
    "\n",
    "<div class=\"alert alert-success\" style=\"width:90%; margin:0 auto;\">\n",
    "  <h2><p>Ramificación y poda: Problema de la mochila</p></h2>\n",
    "  \n",
    "  <div class=\"row\">\n",
    "  <div>\n",
    "  <p style=\"text-align: justify; padding-right: 30px\">\n",
    "  Implementa mediante ramificación y poda una solución al problema de la mochila con tal de encontrar el listado ordenado de items a introducir en la mochila de tal forma que el beneficio (en términos de valor) acumulado en la mochila sea máximo.\n",
    "  </p>\n",
    "  </div>\n"
   ]
  },
  {
   "cell_type": "markdown",
   "metadata": {},
   "source": [
    "<div class=\"alert alert-danger\" style=\"width:80%; margin:0 auto; padding\">\n",
    "<center><p><h3> Código </h3></p> </center> \n",
    "\n",
    "<p>\n",
    "<h3>INPUT</h3>\n",
    "<ul>\n",
    "<li>V1: vector del peso asociado a cada ítem (cada posición corresponde a cada uno de los n ítems).</li>\n",
    "<li>V2: vector del valor asociado a cada ítem (cada posición corresponde a cada uno de los n ítems).</li>\n",
    "<li>V3: vector con la cantidad de elementos disponibles de cada tipo de ítem (cada posición corresponde a cada uno de los n ítems).</li>\n",
    "<li>X: peso máximo que soporta la mochila a ser rellenada por ítems con el objetivo de maximizar el valor que contiene.</li>\n",
    "</ul>\n",
    "<br>\n",
    "<h3>OUTPUT</h3>\n",
    "Listado de elementos que se introducen en la mochila (en el orden en el que se introducen, índice del ítem, la longitud del vector es la cantidad de elementos que se introducen en la mochila) y el valor total de la mochila.\n",
    "</p>\n",
    "\n",
    "</div>"
   ]
  },
  {
   "cell_type": "code",
   "execution_count": 43,
   "metadata": {
    "collapsed": false
   },
   "outputs": [
    {
     "name": "stdout",
     "output_type": "stream",
     "text": [
      "0 [[0, [0, 0, 0, 0, 0]]]\n",
      "0 [[0, [0, 0, 0, 0, 0]]]\n",
      "1 [[0, [0, 1, 0, 0, 0]], [2, [0, 1, 0, 0, 0]]]\n",
      "1 [[0, [0, 1, 0, 0, 0]], [2, [0, 1, 0, 0, 0]]]\n",
      "0 [[0, [0, 1, 0, 0, 0]], [2, [0, 1, 0, 0, 0]]]\n",
      "2 [[0, [0, 1, 0, 1, 0]], [2, [0, 1, 0, 1, 0]], [3, [0, 1, 0, 1, 0]]]\n",
      "2 [[0, [0, 1, 0, 1, 0]], [2, [0, 1, 0, 1, 0]], [3, [0, 1, 0, 1, 0]]]\n",
      "1 [[0, [0, 1, 0, 1, 0]], [2, [0, 1, 0, 1, 0]], [3, [0, 1, 0, 1, 0]]]\n",
      "3 [[0, [0, 1, 0, 1, 1]], [2, [0, 1, 0, 1, 1]], [3, [0, 1, 0, 1, 1]], [4, [0, 1, 0, 1, 1]]]\n",
      "0 [[0, [0, 1, 0, 1, 1]], [2, [0, 1, 0, 1, 1]], [3, [0, 1, 0, 1, 1]], [4, [0, 1, 0, 1, 1]]]\n",
      "3 [[0, [0, 1, 0, 1, 1]], [2, [0, 1, 0, 1, 1]], [3, [0, 1, 0, 1, 1]], [4, [0, 1, 0, 1, 1]]]\n",
      "2 [[0, [0, 1, 0, 1, 1]], [2, [0, 1, 0, 1, 1]], [3, [0, 1, 0, 1, 1]], [4, [0, 1, 0, 1, 1]]]\n",
      "4 [[0, [0, 1, 1, 1, 1]], [2, [0, 1, 1, 1, 1]], [3, [0, 1, 1, 1, 1]], [4, [0, 1, 1, 1, 1]], [10, [0, 1, 1, 1, 1]]]\n",
      "1 [[0, [0, 1, 1, 1, 1]], [2, [0, 1, 1, 1, 1]], [3, [0, 1, 1, 1, 1]], [4, [0, 1, 1, 1, 1]], [10, [0, 1, 1, 1, 1]]]\n",
      "4 [[0, [0, 1, 1, 1, 1]], [2, [0, 1, 1, 1, 1]], [3, [0, 1, 1, 1, 1]], [4, [0, 1, 1, 1, 1]], [10, [0, 1, 1, 1, 1]]]\n",
      "3 [[0, [0, 1, 1, 1, 1]], [2, [0, 1, 1, 1, 1]], [3, [0, 1, 1, 1, 1]], [4, [0, 1, 1, 1, 1]], [10, [0, 1, 1, 1, 1]]]\n",
      "5 [[0, [0, 1, 1, 1, 2]], [2, [0, 1, 1, 1, 2]], [3, [0, 1, 1, 1, 2]], [4, [0, 1, 1, 1, 2]], [10, [0, 1, 1, 1, 2]], [0, [0, 1, 1, 1, 2]]]\n",
      "2 [[0, [0, 1, 1, 1, 2]], [2, [0, 1, 1, 1, 2]], [3, [0, 1, 1, 1, 2]], [4, [0, 1, 1, 1, 2]], [10, [0, 1, 1, 1, 2]], [0, [0, 1, 1, 1, 2]]]\n",
      "5 [[0, [0, 1, 1, 1, 2]], [2, [0, 1, 1, 1, 2]], [3, [0, 1, 1, 1, 2]], [4, [0, 1, 1, 1, 2]], [10, [0, 1, 1, 1, 2]], [0, [0, 1, 1, 1, 2]]]\n",
      "4 [[0, [0, 1, 1, 1, 2]], [2, [0, 1, 1, 1, 2]], [3, [0, 1, 1, 1, 2]], [4, [0, 1, 1, 1, 2]], [10, [0, 1, 1, 1, 2]], [0, [0, 1, 1, 1, 2]]]\n",
      "6 [[0, [0, 1, 1, 1, 3]], [2, [0, 1, 1, 1, 3]], [3, [0, 1, 1, 1, 3]], [4, [0, 1, 1, 1, 3]], [10, [0, 1, 1, 1, 3]], [0, [0, 1, 1, 1, 3]], [0, [0, 1, 1, 1, 3]]]\n",
      "3 [[0, [0, 1, 1, 1, 3]], [2, [0, 1, 1, 1, 3]], [3, [0, 1, 1, 1, 3]], [4, [0, 1, 1, 1, 3]], [10, [0, 1, 1, 1, 3]], [0, [0, 1, 1, 1, 3]], [0, [0, 1, 1, 1, 3]]]\n",
      "6 [[0, [0, 1, 1, 1, 3]], [2, [0, 1, 1, 1, 3]], [3, [0, 1, 1, 1, 3]], [4, [0, 1, 1, 1, 3]], [10, [0, 1, 1, 1, 3]], [0, [0, 1, 1, 1, 3]], [0, [0, 1, 1, 1, 3]]]\n",
      "5 [[0, [0, 1, 1, 1, 3]], [2, [0, 1, 1, 1, 3]], [3, [0, 1, 1, 1, 3]], [4, [0, 1, 1, 1, 3]], [10, [0, 1, 1, 1, 3]], [0, [0, 1, 1, 1, 3]], [0, [0, 1, 1, 1, 3]]]\n",
      "7 [[0, [0, 1, 1, 1, 4]], [2, [0, 1, 1, 1, 4]], [3, [0, 1, 1, 1, 4]], [4, [0, 1, 1, 1, 4]], [10, [0, 1, 1, 1, 4]], [0, [0, 1, 1, 1, 4]], [0, [0, 1, 1, 1, 4]], [0, [0, 1, 1, 1, 4]]]\n",
      "4 [[0, [0, 1, 1, 1, 4]], [2, [0, 1, 1, 1, 4]], [3, [0, 1, 1, 1, 4]], [4, [0, 1, 1, 1, 4]], [10, [0, 1, 1, 1, 4]], [0, [0, 1, 1, 1, 4]], [0, [0, 1, 1, 1, 4]], [0, [0, 1, 1, 1, 4]]]\n",
      "7 [[0, [0, 1, 1, 1, 4]], [2, [0, 1, 1, 1, 4]], [3, [0, 1, 1, 1, 4]], [4, [0, 1, 1, 1, 4]], [10, [0, 1, 1, 1, 4]], [0, [0, 1, 1, 1, 4]], [0, [0, 1, 1, 1, 4]], [0, [0, 1, 1, 1, 4]]]\n",
      "6 [[0, [0, 1, 1, 1, 4]], [2, [0, 1, 1, 1, 4]], [3, [0, 1, 1, 1, 4]], [4, [0, 1, 1, 1, 4]], [10, [0, 1, 1, 1, 4]], [0, [0, 1, 1, 1, 4]], [0, [0, 1, 1, 1, 4]], [0, [0, 1, 1, 1, 4]]]\n",
      "8 [[0, [0, 1, 1, 1, 5]], [2, [0, 1, 1, 1, 5]], [3, [0, 1, 1, 1, 5]], [4, [0, 1, 1, 1, 5]], [10, [0, 1, 1, 1, 5]], [0, [0, 1, 1, 1, 5]], [0, [0, 1, 1, 1, 5]], [0, [0, 1, 1, 1, 5]], [0, [0, 1, 1, 1, 5]]]\n",
      "5 [[0, [0, 1, 1, 1, 5]], [2, [0, 1, 1, 1, 5]], [3, [0, 1, 1, 1, 5]], [4, [0, 1, 1, 1, 5]], [10, [0, 1, 1, 1, 5]], [0, [0, 1, 1, 1, 5]], [0, [0, 1, 1, 1, 5]], [0, [0, 1, 1, 1, 5]], [0, [0, 1, 1, 1, 5]]]\n",
      "8 [[0, [0, 1, 1, 1, 5]], [2, [0, 1, 1, 1, 5]], [3, [0, 1, 1, 1, 5]], [4, [0, 1, 1, 1, 5]], [10, [0, 1, 1, 1, 5]], [0, [0, 1, 1, 1, 5]], [0, [0, 1, 1, 1, 5]], [0, [0, 1, 1, 1, 5]], [0, [0, 1, 1, 1, 5]]]\n",
      "7 [[0, [0, 1, 1, 1, 5]], [2, [0, 1, 1, 1, 5]], [3, [0, 1, 1, 1, 5]], [4, [0, 1, 1, 1, 5]], [10, [0, 1, 1, 1, 5]], [0, [0, 1, 1, 1, 5]], [0, [0, 1, 1, 1, 5]], [0, [0, 1, 1, 1, 5]], [0, [0, 1, 1, 1, 5]]]\n",
      "9 [[0, [0, 1, 1, 1, 6]], [2, [0, 1, 1, 1, 6]], [3, [0, 1, 1, 1, 6]], [4, [0, 1, 1, 1, 6]], [10, [0, 1, 1, 1, 6]], [0, [0, 1, 1, 1, 6]], [0, [0, 1, 1, 1, 6]], [0, [0, 1, 1, 1, 6]], [0, [0, 1, 1, 1, 6]], [0, [0, 1, 1, 1, 6]]]\n",
      "6 [[0, [0, 1, 1, 1, 6]], [2, [0, 1, 1, 1, 6]], [3, [0, 1, 1, 1, 6]], [4, [0, 1, 1, 1, 6]], [10, [0, 1, 1, 1, 6]], [0, [0, 1, 1, 1, 6]], [0, [0, 1, 1, 1, 6]], [0, [0, 1, 1, 1, 6]], [0, [0, 1, 1, 1, 6]], [0, [0, 1, 1, 1, 6]]]\n",
      "9 [[0, [0, 1, 1, 1, 6]], [2, [0, 1, 1, 1, 6]], [3, [0, 1, 1, 1, 6]], [4, [0, 1, 1, 1, 6]], [10, [0, 1, 1, 1, 6]], [0, [0, 1, 1, 1, 6]], [0, [0, 1, 1, 1, 6]], [0, [0, 1, 1, 1, 6]], [0, [0, 1, 1, 1, 6]], [0, [0, 1, 1, 1, 6]]]\n",
      "8 [[0, [0, 1, 1, 1, 6]], [2, [0, 1, 1, 1, 6]], [3, [0, 1, 1, 1, 6]], [4, [0, 1, 1, 1, 6]], [10, [0, 1, 1, 1, 6]], [0, [0, 1, 1, 1, 6]], [0, [0, 1, 1, 1, 6]], [0, [0, 1, 1, 1, 6]], [0, [0, 1, 1, 1, 6]], [0, [0, 1, 1, 1, 6]]]\n",
      "10 [[0, [0, 1, 1, 1, 7]], [2, [0, 1, 1, 1, 7]], [3, [0, 1, 1, 1, 7]], [4, [0, 1, 1, 1, 7]], [10, [0, 1, 1, 1, 7]], [0, [0, 1, 1, 1, 7]], [0, [0, 1, 1, 1, 7]], [0, [0, 1, 1, 1, 7]], [0, [0, 1, 1, 1, 7]], [0, [0, 1, 1, 1, 7]], [0, [0, 1, 1, 1, 7]]]\n",
      "7 [[0, [0, 1, 1, 1, 7]], [2, [0, 1, 1, 1, 7]], [3, [0, 1, 1, 1, 7]], [4, [0, 1, 1, 1, 7]], [10, [0, 1, 1, 1, 7]], [0, [0, 1, 1, 1, 7]], [0, [0, 1, 1, 1, 7]], [0, [0, 1, 1, 1, 7]], [0, [0, 1, 1, 1, 7]], [0, [0, 1, 1, 1, 7]], [0, [0, 1, 1, 1, 7]]]\n",
      "10 [[0, [0, 1, 1, 1, 7]], [2, [0, 1, 1, 1, 7]], [3, [0, 1, 1, 1, 7]], [4, [0, 1, 1, 1, 7]], [10, [0, 1, 1, 1, 7]], [0, [0, 1, 1, 1, 7]], [0, [0, 1, 1, 1, 7]], [0, [0, 1, 1, 1, 7]], [0, [0, 1, 1, 1, 7]], [0, [0, 1, 1, 1, 7]], [0, [0, 1, 1, 1, 7]]]\n",
      "9 [[0, [0, 1, 1, 1, 7]], [2, [0, 1, 1, 1, 7]], [3, [0, 1, 1, 1, 7]], [4, [0, 1, 1, 1, 7]], [10, [0, 1, 1, 1, 7]], [0, [0, 1, 1, 1, 7]], [0, [0, 1, 1, 1, 7]], [0, [0, 1, 1, 1, 7]], [0, [0, 1, 1, 1, 7]], [0, [0, 1, 1, 1, 7]], [0, [0, 1, 1, 1, 7]]]\n",
      "0 [[0, [0, 1, 1, 1, 8]], [2, [0, 1, 1, 1, 8]], [3, [0, 1, 1, 1, 8]], [4, [0, 1, 1, 1, 8]], [10, [0, 1, 1, 1, 8]], [0, [0, 1, 1, 1, 8]], [0, [0, 1, 1, 1, 8]], [0, [0, 1, 1, 1, 8]], [0, [0, 1, 1, 1, 8]], [0, [0, 1, 1, 1, 8]], [0, [0, 1, 1, 1, 8]], [0, [0, 1, 1, 1, 8]]]\n",
      "11 [[0, [0, 1, 1, 1, 8]], [2, [0, 1, 1, 1, 8]], [3, [0, 1, 1, 1, 8]], [4, [0, 1, 1, 1, 8]], [10, [0, 1, 1, 1, 8]], [0, [0, 1, 1, 1, 8]], [0, [0, 1, 1, 1, 8]], [0, [0, 1, 1, 1, 8]], [0, [0, 1, 1, 1, 8]], [0, [0, 1, 1, 1, 8]], [0, [0, 1, 1, 1, 8]], [0, [0, 1, 1, 1, 8]]]\n",
      "8 [[0, [0, 1, 1, 1, 8]], [2, [0, 1, 1, 1, 8]], [3, [0, 1, 1, 1, 8]], [4, [0, 1, 1, 1, 8]], [10, [0, 1, 1, 1, 8]], [0, [0, 1, 1, 1, 8]], [0, [0, 1, 1, 1, 8]], [0, [0, 1, 1, 1, 8]], [0, [0, 1, 1, 1, 8]], [0, [0, 1, 1, 1, 8]], [0, [0, 1, 1, 1, 8]], [0, [0, 1, 1, 1, 8]]]\n",
      "11 [[0, [0, 1, 1, 1, 8]], [2, [0, 1, 1, 1, 8]], [3, [0, 1, 1, 1, 8]], [4, [0, 1, 1, 1, 8]], [10, [0, 1, 1, 1, 8]], [0, [0, 1, 1, 1, 8]], [0, [0, 1, 1, 1, 8]], [0, [0, 1, 1, 1, 8]], [0, [0, 1, 1, 1, 8]], [0, [0, 1, 1, 1, 8]], [0, [0, 1, 1, 1, 8]], [0, [0, 1, 1, 1, 8]]]\n",
      "10 [[0, [0, 1, 1, 1, 8]], [2, [0, 1, 1, 1, 8]], [3, [0, 1, 1, 1, 8]], [4, [0, 1, 1, 1, 8]], [10, [0, 1, 1, 1, 8]], [0, [0, 1, 1, 1, 8]], [0, [0, 1, 1, 1, 8]], [0, [0, 1, 1, 1, 8]], [0, [0, 1, 1, 1, 8]], [0, [0, 1, 1, 1, 8]], [0, [0, 1, 1, 1, 8]], [0, [0, 1, 1, 1, 8]]]\n",
      "1 [[0, [1, 1, 1, 1, 8]], [2, [1, 1, 1, 1, 8]], [3, [1, 1, 1, 1, 8]], [4, [1, 1, 1, 1, 8]], [10, [1, 1, 1, 1, 8]], [0, [1, 1, 1, 1, 8]], [0, [1, 1, 1, 1, 8]], [0, [1, 1, 1, 1, 8]], [0, [1, 1, 1, 1, 8]], [0, [1, 1, 1, 1, 8]], [0, [1, 1, 1, 1, 8]], [0, [1, 1, 1, 1, 8]], [4, [1, 1, 1, 1, 8]]]\n",
      "12 [[0, [1, 1, 1, 1, 8]], [2, [1, 1, 1, 1, 8]], [3, [1, 1, 1, 1, 8]], [4, [1, 1, 1, 1, 8]], [10, [1, 1, 1, 1, 8]], [0, [1, 1, 1, 1, 8]], [0, [1, 1, 1, 1, 8]], [0, [1, 1, 1, 1, 8]], [0, [1, 1, 1, 1, 8]], [0, [1, 1, 1, 1, 8]], [0, [1, 1, 1, 1, 8]], [0, [1, 1, 1, 1, 8]], [4, [1, 1, 1, 1, 8]]]\n",
      "9 [[0, [1, 1, 1, 1, 8]], [2, [1, 1, 1, 1, 8]], [3, [1, 1, 1, 1, 8]], [4, [1, 1, 1, 1, 8]], [10, [1, 1, 1, 1, 8]], [0, [1, 1, 1, 1, 8]], [0, [1, 1, 1, 1, 8]], [0, [1, 1, 1, 1, 8]], [0, [1, 1, 1, 1, 8]], [0, [1, 1, 1, 1, 8]], [0, [1, 1, 1, 1, 8]], [0, [1, 1, 1, 1, 8]], [4, [1, 1, 1, 1, 8]]]\n",
      "12 [[0, [1, 1, 1, 1, 8]], [2, [1, 1, 1, 1, 8]], [3, [1, 1, 1, 1, 8]], [4, [1, 1, 1, 1, 8]], [10, [1, 1, 1, 1, 8]], [0, [1, 1, 1, 1, 8]], [0, [1, 1, 1, 1, 8]], [0, [1, 1, 1, 1, 8]], [0, [1, 1, 1, 1, 8]], [0, [1, 1, 1, 1, 8]], [0, [1, 1, 1, 1, 8]], [0, [1, 1, 1, 1, 8]], [4, [1, 1, 1, 1, 8]]]\n",
      "11 [[0, [1, 1, 1, 1, 8]], [2, [1, 1, 1, 1, 8]], [3, [1, 1, 1, 1, 8]], [4, [1, 1, 1, 1, 8]], [10, [1, 1, 1, 1, 8]], [0, [1, 1, 1, 1, 8]], [0, [1, 1, 1, 1, 8]], [0, [1, 1, 1, 1, 8]], [0, [1, 1, 1, 1, 8]], [0, [1, 1, 1, 1, 8]], [0, [1, 1, 1, 1, 8]], [0, [1, 1, 1, 1, 8]], [4, [1, 1, 1, 1, 8]]]\n",
      "2 [[0, [1, 1, 1, 1, 9]], [2, [1, 1, 1, 1, 9]], [3, [1, 1, 1, 1, 9]], [4, [1, 1, 1, 1, 9]], [10, [1, 1, 1, 1, 9]], [0, [1, 1, 1, 1, 9]], [0, [1, 1, 1, 1, 9]], [0, [1, 1, 1, 1, 9]], [0, [1, 1, 1, 1, 9]], [0, [1, 1, 1, 1, 9]], [0, [1, 1, 1, 1, 9]], [0, [1, 1, 1, 1, 9]], [4, [1, 1, 1, 1, 9]], [0, [1, 1, 1, 1, 9]]]\n",
      "13 [[0, [1, 1, 1, 1, 9]], [2, [1, 1, 1, 1, 9]], [3, [1, 1, 1, 1, 9]], [4, [1, 1, 1, 1, 9]], [10, [1, 1, 1, 1, 9]], [0, [1, 1, 1, 1, 9]], [0, [1, 1, 1, 1, 9]], [0, [1, 1, 1, 1, 9]], [0, [1, 1, 1, 1, 9]], [0, [1, 1, 1, 1, 9]], [0, [1, 1, 1, 1, 9]], [0, [1, 1, 1, 1, 9]], [4, [1, 1, 1, 1, 9]], [0, [1, 1, 1, 1, 9]]]\n",
      "10 [[0, [1, 1, 1, 1, 9]], [2, [1, 1, 1, 1, 9]], [3, [1, 1, 1, 1, 9]], [4, [1, 1, 1, 1, 9]], [10, [1, 1, 1, 1, 9]], [0, [1, 1, 1, 1, 9]], [0, [1, 1, 1, 1, 9]], [0, [1, 1, 1, 1, 9]], [0, [1, 1, 1, 1, 9]], [0, [1, 1, 1, 1, 9]], [0, [1, 1, 1, 1, 9]], [0, [1, 1, 1, 1, 9]], [4, [1, 1, 1, 1, 9]], [0, [1, 1, 1, 1, 9]]]\n",
      "13 [[0, [1, 1, 1, 1, 9]], [2, [1, 1, 1, 1, 9]], [3, [1, 1, 1, 1, 9]], [4, [1, 1, 1, 1, 9]], [10, [1, 1, 1, 1, 9]], [0, [1, 1, 1, 1, 9]], [0, [1, 1, 1, 1, 9]], [0, [1, 1, 1, 1, 9]], [0, [1, 1, 1, 1, 9]], [0, [1, 1, 1, 1, 9]], [0, [1, 1, 1, 1, 9]], [0, [1, 1, 1, 1, 9]], [4, [1, 1, 1, 1, 9]], [0, [1, 1, 1, 1, 9]]]\n",
      "12 [[0, [1, 1, 1, 1, 9]], [2, [1, 1, 1, 1, 9]], [3, [1, 1, 1, 1, 9]], [4, [1, 1, 1, 1, 9]], [10, [1, 1, 1, 1, 9]], [0, [1, 1, 1, 1, 9]], [0, [1, 1, 1, 1, 9]], [0, [1, 1, 1, 1, 9]], [0, [1, 1, 1, 1, 9]], [0, [1, 1, 1, 1, 9]], [0, [1, 1, 1, 1, 9]], [0, [1, 1, 1, 1, 9]], [4, [1, 1, 1, 1, 9]], [0, [1, 1, 1, 1, 9]]]\n",
      "[10, [1, 1, 1, 1, 10]]\n",
      "[10, [1, 2, 3, 4, 5, 5, 5, 5, 5, 5, 5, 5, 5, 5]]\n",
      "[10, [1, 2, 3, 4, 5, 5, 5, 5, 5, 5, 5, 5, 5, 5]]\n"
     ]
    }
   ],
   "source": [
    "def RP(V1,V2,V3,X):\n",
    "    items2=[]\n",
    "    for i in range(0,len(V1)):\n",
    "        items2.append(0)\n",
    "    items=[]\n",
    "    items.append([0,items2])    \n",
    "    element=0\n",
    "    for i in range (1,X):\n",
    "        maxmatch=[0,items2]\n",
    "        element=-1\n",
    "        for j in range (0, len(V1)):\n",
    "            if (V1[j]<=i):\n",
    "                print i-V1[j], items\n",
    "                if (items[i-V1[j]][0]+V2[j]>maxmatch[0]):\n",
    "                    if(V3[j]>items[i-V1[j]][1][j]):  \n",
    "                        maxmatch[0]=items[i-V1[j]][0]+V2[j] \n",
    "                        element=j\n",
    "        maxmatch[1][element]=items[i-V1[element]][1][element]+1\n",
    "        items.append(maxmatch)    \n",
    "    items = max(items)\n",
    "    print items\n",
    "    output=[]\n",
    "    for i in range(len(items[1])):\n",
    "        id=0\n",
    "        while items[1][i]!=0:\n",
    "            items[1][i]=items[1][i]-1\n",
    "            output.append(i+1)\n",
    "    items[1] = output\n",
    "    print items \n",
    "    print items \n",
    "RP([12,1,4,1,2],[4,2,10,1,2],[1,1,1,1,1],15)"
   ]
  },
  {
   "cell_type": "code",
   "execution_count": 57,
   "metadata": {
    "collapsed": false
   },
   "outputs": [
    {
     "name": "stdout",
     "output_type": "stream",
     "text": [
      "[[0, 1, 0, 0, 0], 2]\n",
      "[[0, 0, 0, 0, 0], 0]\n",
      "[[0, 0, 0, 1, 0], 3]\n",
      "[[0, 1, 0, 0, 0], 5]\n",
      "[[0, 0, 0, 0, 0], 0]\n",
      "[[0, 0, 1, 0, 0], 10]\n",
      "[[0, 1, 0, 0, 0], 12]\n",
      "[[0, 0, 0, 0, 0], 0]\n",
      "[[0, 0, 1, 0, 0], 13]\n",
      "[[0, 1, 0, 0, 0], 15]\n",
      "[[0, 0, 0, 0, 0], 0]\n",
      "[[0, 0, 0, 0, 0], 0]\n",
      "[[0, 0, 0, 1, 0], 16]\n",
      "[[0, 1, 0, 0, 0], 18]\n",
      "[[0, 1, 1, 0, 0], 22]\n",
      "[[0, 0, 0, 0, 0], 0]\n",
      "[[0, 0, 0, 0, 0], 0]\n",
      "[[0, 0, 0, 1, 0], 23]\n",
      "[[0, 1, 0, 0, 0], 25]\n",
      "[[1, 0, 0, 0, 0], 4]\n",
      "[[1, 0, 0, 0, 0], 4]\n",
      "[[1, 0, 1, 0, 0], 26]\n",
      "[[1, 0, 0, 0, 0], 6]\n",
      "[[1, 1, 0, 0, 0], 28]\n",
      "[[1, 1, 0, 0, 0], 28]\n",
      "[[1, 0, 0, 0, 0], 7]\n",
      "[[1, 0, 0, 0, 0], 7]\n",
      "[[1, 0, 1, 0, 0], 33]\n",
      "[[1, 0, 0, 0, 0], 9]\n",
      "[[1, 1, 0, 0, 0], 35]\n",
      "[[[0, 0, 0, 0, 0], 0], [[0, 1, 0, 0, 0], 2], [[0, 0, 0, 1, 0], 3], [[0, 1, 0, 0, 0], 5], [[0, 0, 1, 0, 0], 10], [[0, 1, 0, 0, 0], 12], [[0, 0, 1, 0, 0], 13], [[0, 1, 0, 0, 0], 15], [[0, 0, 0, 1, 0], 16], [[0, 1, 1, 0, 0], 22], [[0, 0, 0, 1, 0], 23], [[0, 1, 0, 0, 0], 25], [[1, 0, 1, 0, 0], 26], [[1, 1, 0, 0, 0], 28], [[1, 0, 1, 0, 0], 33], [[1, 1, 0, 0, 0], 35]]\n",
      "[[1, 2], 35]\n"
     ]
    },
    {
     "data": {
      "text/plain": [
       "([1, 2], 5)"
      ]
     },
     "execution_count": 57,
     "metadata": {},
     "output_type": "execute_result"
    }
   ],
   "source": [
    "def RP(V1,V2,V3,X):\n",
    "    items=[]\n",
    "    items.append(newArray(len(V1)))\n",
    "    valor=0\n",
    "    element=0\n",
    "    for i in range (1,X+1):\n",
    "        maxmatch=newArray(len(V1))\n",
    "        element=-1\n",
    "        for j in range (0, len(V1)):\n",
    "            if (V1[j]<=i):\n",
    "                if (items[i-V1[j]][1]+V2[j]>maxmatch[1]):\n",
    "                    if(V3[j]>items[i-V1[j]][0][j]):  \n",
    "                        maxmatch[1]=items[i-V1[j]][1]+V2[j] \n",
    "                        maxmatch[0][j]=items[i-V1[j]][0][j]+1\n",
    "                    print maxmatch\n",
    "        items.append(maxmatch)\n",
    "    print items\n",
    "    items = max(items)\n",
    "    output=[]\n",
    "    for i in range(len(items[0])):\n",
    "        while items[0][i]!=0:\n",
    "            output.append(i+1)\n",
    "            items[0][i]=items[0][i]-1\n",
    "    items[0] = output\n",
    "    print items\n",
    "    sumat=0\n",
    "    for elem in items[0]:\n",
    "        sumat=sumat+V1[elem]\n",
    "    return items[0], sumat\n",
    "def newArray(size):\n",
    "    zeros=[]\n",
    "    arzeros=[]    \n",
    "    for i in range(size):\n",
    "        arzeros.append(0)\n",
    "    zeros.append(arzeros)\n",
    "    zeros.append(0)\n",
    "    return zeros\n",
    "RP([12,1,4,1,2],[4,2,10,1,2],[1,1,1,1,1],15)"
   ]
  },
  {
   "cell_type": "code",
   "execution_count": 82,
   "metadata": {
    "collapsed": false
   },
   "outputs": [
    {
     "ename": "IndexError",
     "evalue": "list index out of range",
     "output_type": "error",
     "traceback": [
      "\u001b[1;31m---------------------------------------------------------------------------\u001b[0m",
      "\u001b[1;31mIndexError\u001b[0m                                Traceback (most recent call last)",
      "\u001b[1;32m<ipython-input-82-13be86ee5d28>\u001b[0m in \u001b[0;36m<module>\u001b[1;34m()\u001b[0m\n\u001b[0;32m     33\u001b[0m     \u001b[0mzeros\u001b[0m\u001b[1;33m.\u001b[0m\u001b[0mappend\u001b[0m\u001b[1;33m(\u001b[0m\u001b[1;36m0\u001b[0m\u001b[1;33m)\u001b[0m\u001b[1;33m\u001b[0m\u001b[0m\n\u001b[0;32m     34\u001b[0m     \u001b[1;32mreturn\u001b[0m \u001b[0mzeros\u001b[0m\u001b[1;33m\u001b[0m\u001b[0m\n\u001b[1;32m---> 35\u001b[1;33m \u001b[0mRP\u001b[0m\u001b[1;33m(\u001b[0m\u001b[1;33m[\u001b[0m\u001b[1;36m12\u001b[0m\u001b[1;33m,\u001b[0m\u001b[1;36m1\u001b[0m\u001b[1;33m,\u001b[0m\u001b[1;36m4\u001b[0m\u001b[1;33m,\u001b[0m\u001b[1;36m1\u001b[0m\u001b[1;33m,\u001b[0m\u001b[1;36m2\u001b[0m\u001b[1;33m]\u001b[0m\u001b[1;33m,\u001b[0m\u001b[1;33m[\u001b[0m\u001b[1;36m4\u001b[0m\u001b[1;33m,\u001b[0m\u001b[1;36m2\u001b[0m\u001b[1;33m,\u001b[0m\u001b[1;36m10\u001b[0m\u001b[1;33m,\u001b[0m\u001b[1;36m1\u001b[0m\u001b[1;33m,\u001b[0m\u001b[1;36m2\u001b[0m\u001b[1;33m]\u001b[0m\u001b[1;33m,\u001b[0m\u001b[1;33m[\u001b[0m\u001b[1;36m1\u001b[0m\u001b[1;33m,\u001b[0m\u001b[1;36m1\u001b[0m\u001b[1;33m,\u001b[0m\u001b[1;36m1\u001b[0m\u001b[1;33m,\u001b[0m\u001b[1;36m1\u001b[0m\u001b[1;33m,\u001b[0m\u001b[1;36m1\u001b[0m\u001b[1;33m]\u001b[0m\u001b[1;33m,\u001b[0m\u001b[1;36m15\u001b[0m\u001b[1;33m)\u001b[0m\u001b[1;33m\u001b[0m\u001b[0m\n\u001b[0m",
      "\u001b[1;32m<ipython-input-82-13be86ee5d28>\u001b[0m in \u001b[0;36mRP\u001b[1;34m(V1, V2, V3, X)\u001b[0m\n\u001b[0;32m     10\u001b[0m         \u001b[1;32mfor\u001b[0m \u001b[0mj\u001b[0m \u001b[1;32min\u001b[0m \u001b[0mrange\u001b[0m \u001b[1;33m(\u001b[0m\u001b[1;36m1\u001b[0m\u001b[1;33m,\u001b[0m \u001b[0mlen\u001b[0m\u001b[1;33m(\u001b[0m\u001b[0mV1\u001b[0m\u001b[1;33m)\u001b[0m\u001b[1;33m)\u001b[0m\u001b[1;33m:\u001b[0m\u001b[1;33m\u001b[0m\u001b[0m\n\u001b[0;32m     11\u001b[0m             \u001b[1;32mif\u001b[0m \u001b[1;33m(\u001b[0m\u001b[0mV1\u001b[0m\u001b[1;33m[\u001b[0m\u001b[0mj\u001b[0m\u001b[1;33m]\u001b[0m\u001b[1;33m<=\u001b[0m\u001b[0mi\u001b[0m \u001b[1;32mand\u001b[0m \u001b[0msumat\u001b[0m\u001b[1;33m<\u001b[0m\u001b[0mX\u001b[0m\u001b[1;33m)\u001b[0m\u001b[1;33m:\u001b[0m\u001b[1;33m\u001b[0m\u001b[0m\n\u001b[1;32m---> 12\u001b[1;33m                 \u001b[0mmaxmatch\u001b[0m\u001b[1;33m[\u001b[0m\u001b[1;36m1\u001b[0m\u001b[1;33m]\u001b[0m\u001b[1;33m=\u001b[0m\u001b[0mitems\u001b[0m\u001b[1;33m[\u001b[0m\u001b[0mi\u001b[0m\u001b[1;33m-\u001b[0m\u001b[0mV1\u001b[0m\u001b[1;33m[\u001b[0m\u001b[0mj\u001b[0m\u001b[1;33m-\u001b[0m\u001b[1;36m1\u001b[0m\u001b[1;33m]\u001b[0m\u001b[1;33m]\u001b[0m\u001b[1;33m[\u001b[0m\u001b[1;36m1\u001b[0m\u001b[1;33m]\u001b[0m\u001b[1;33m+\u001b[0m\u001b[0mV2\u001b[0m\u001b[1;33m[\u001b[0m\u001b[0mj\u001b[0m\u001b[1;33m-\u001b[0m\u001b[1;36m1\u001b[0m\u001b[1;33m]\u001b[0m\u001b[1;33m\u001b[0m\u001b[0m\n\u001b[0m\u001b[0;32m     13\u001b[0m                 \u001b[0mmaxmatch\u001b[0m\u001b[1;33m[\u001b[0m\u001b[1;36m0\u001b[0m\u001b[1;33m]\u001b[0m\u001b[1;33m[\u001b[0m\u001b[0mj\u001b[0m\u001b[1;33m-\u001b[0m\u001b[1;36m1\u001b[0m\u001b[1;33m]\u001b[0m\u001b[1;33m=\u001b[0m\u001b[0mmaxmatch\u001b[0m\u001b[1;33m[\u001b[0m\u001b[1;36m0\u001b[0m\u001b[1;33m]\u001b[0m\u001b[1;33m[\u001b[0m\u001b[0mj\u001b[0m\u001b[1;33m-\u001b[0m\u001b[1;36m1\u001b[0m\u001b[1;33m]\u001b[0m\u001b[1;33m+\u001b[0m\u001b[1;36m1\u001b[0m\u001b[1;33m\u001b[0m\u001b[0m\n\u001b[0;32m     14\u001b[0m                 \u001b[1;32mif\u001b[0m \u001b[1;33m(\u001b[0m\u001b[0mitems\u001b[0m\u001b[1;33m[\u001b[0m\u001b[0mi\u001b[0m\u001b[1;33m-\u001b[0m\u001b[0mV1\u001b[0m\u001b[1;33m[\u001b[0m\u001b[0mj\u001b[0m\u001b[1;33m]\u001b[0m\u001b[1;33m]\u001b[0m\u001b[1;33m[\u001b[0m\u001b[1;36m1\u001b[0m\u001b[1;33m]\u001b[0m\u001b[1;33m+\u001b[0m\u001b[0mV2\u001b[0m\u001b[1;33m[\u001b[0m\u001b[0mj\u001b[0m\u001b[1;33m]\u001b[0m\u001b[1;33m>\u001b[0m\u001b[0mmaxmatch\u001b[0m\u001b[1;33m[\u001b[0m\u001b[1;36m1\u001b[0m\u001b[1;33m]\u001b[0m\u001b[1;33m)\u001b[0m\u001b[1;33m:\u001b[0m\u001b[1;33m\u001b[0m\u001b[0m\n",
      "\u001b[1;31mIndexError\u001b[0m: list index out of range"
     ]
    }
   ],
   "source": [
    "def RP(V1,V2,V3,X):\n",
    "    items=[]\n",
    "    items.append(newArray(len(V1)))\n",
    "    valor=0\n",
    "    element=0\n",
    "    for i in range (1,X):\n",
    "        maxmatch=newArray(len(V1))\n",
    "        sumat=0\n",
    "        element=1\n",
    "        for j in range (1, len(V1)):\n",
    "            if (V1[j]<=i and sumat<X):\n",
    "                maxmatch[1]=items[i-V1[j-1]][1]+V2[j-1]\n",
    "                maxmatch[0][j-1]=maxmatch[0][j-1]+1\n",
    "                if (items[i-V1[j]][1]+V2[j]>maxmatch[1]):\n",
    "                    if(V3[j]>maxmatch[0][j]):  \n",
    "                        maxmatch[1]=items[i-V1[j]][1]+V2[j]\n",
    "                        maxmatch[0][j]=maxmatch[0][j]+1\n",
    "                        element=j   \n",
    "        maxmatch[1]=items[i-V1[element]][1]+V2[element] \n",
    "        maxmatch[0][element]=items[i-V1[element]][0][element]+1            \n",
    "        sumat=sumat+1\n",
    "        items.append(maxmatch)\n",
    "    for elem in items[0]:\n",
    "        print elem\n",
    "   \n",
    "    return items\n",
    "def newArray(size):\n",
    "    zeros=[]\n",
    "    arzeros=[]    \n",
    "    for i in range(size):\n",
    "        arzeros.append(0)\n",
    "    zeros.append(arzeros)\n",
    "    zeros.append(0)\n",
    "    return zeros\n",
    "RP([12,1,4,1,2],[4,2,10,1,2],[1,1,1,1,1],15)"
   ]
  },
  {
   "cell_type": "code",
   "execution_count": 125,
   "metadata": {
    "collapsed": false
   },
   "outputs": [
    {
     "data": {
      "text/plain": [
       "([2, 2, 2, 1, 1, 3], 35)"
      ]
     },
     "execution_count": 125,
     "metadata": {},
     "output_type": "execute_result"
    }
   ],
   "source": [
    "def RP(V1,V2,V3,X):\n",
    "    ind = {}\n",
    "    V2i=V2\n",
    "    for i in range(0,len(V1)):\n",
    "        ind[(V1[i],V2[i])]=i\n",
    "    V1, V2, V3= zip(*sorted(zip(V1, V2, V3)))\n",
    "    i=0\n",
    "    items = [[0 for x in range(0,X+1)] for y in V1]\n",
    "    while i < len(V1):\n",
    "        j=1\n",
    "        while j <= X:\n",
    "            items[i][j] = items[i-1][j]\n",
    "            k=1\n",
    "            while k <= V3[i]:\n",
    "                if j>V1[i]*k:\n",
    "                    items[i][j] = max(V2[i]*k+items[i-1][j-V1[i]*k],items[i][j])\n",
    "                k=k+1\n",
    "            j=j+1\n",
    "        i=i+1\n",
    "    output=[]\n",
    "    i = len(V1)-1\n",
    "    j = X\n",
    "    while i>=0 and j>0 : \n",
    "        if i==0:\n",
    "            output.append(ind.get((V1[i],V2[i])))\n",
    "            j=j-V1[i]\n",
    "            i=i-1\n",
    "        elif items[i][j] == items[i-1][j]:\n",
    "            i=i-1\n",
    "        else:\n",
    "            output.append(ind.get((V1[i],V2[i])))\n",
    "            j=j-V1[i]\n",
    "    cota=0\n",
    "    for elem in output:\n",
    "        cota = cota + V2i[elem]\n",
    "        \n",
    "    return output, cota\n",
    "#RP([1,3,4,5],[1,4,5,7],[1,1,1,1,1],7)\n",
    "RP([12,1,4,1,2],[4,2,10,1,2],[1,2,3,4,5],15)"
   ]
  },
  {
   "cell_type": "code",
   "execution_count": 91,
   "metadata": {
    "collapsed": false
   },
   "outputs": [
    {
     "data": {
      "text/plain": [
       "([2, 2, 2, 1, 1, 3], 35)"
      ]
     },
     "execution_count": 91,
     "metadata": {},
     "output_type": "execute_result"
    }
   ],
   "source": [
    "def knapSack(W , wt , val , n):\n",
    "    if n == 0 or W == 0 :\n",
    "        return 0\n",
    "    if (wt[n-1] > W):\n",
    "        return knapSack(W , wt , val , n-1)\n",
    "    else:\n",
    "        return max(val[n-1] + knapSack(W-wt[n-1] , wt , val , n-1),\n",
    "                   knapSack(W , wt , val , n-1))\n",
    "RP([12,1,4,1,2],[4,2,10,1,2],[1,1,1,1,1],15)"
   ]
  },
  {
   "cell_type": "markdown",
   "metadata": {},
   "source": [
    "<div class=\"alert alert-danger\" style=\"width:80%; margin:0 auto; padding\">\n",
    "<center><p><h3> Comentarios </h3></p> </center> \n",
    "\n",
    "</div>"
   ]
  },
  {
   "cell_type": "code",
   "execution_count": null,
   "metadata": {
    "collapsed": true
   },
   "outputs": [],
   "source": []
  },
  {
   "cell_type": "markdown",
   "metadata": {},
   "source": [
    "### En esta sección debéis responder a las preguntas siguientes:\n",
    "#### 1. Implementar un juego de test y justificar los resultados\n",
    "#### 2. Análisis de complejidad de vuestra implementación"
   ]
  },
  {
   "cell_type": "markdown",
   "metadata": {},
   "source": [
    "<div class=\"alert alert-info\">\n",
    "<center>\n",
    "  <h1>Entrega</h1>\n",
    "</center>\n",
    "<p>\n",
    "La entrega de esta práctica tiene como fecha límite el **domingo, 25 de diciembre de 2016 a las 23:55**. En el campus virtual deberéis subir este fichero con las funciones implementadas y las secciones de comentarios debidamente rellenadas.\n",
    "</p>\n",
    "\n",
    "<p>\n",
    "Este fichero es la parte 2/2 de la segunda entrega, correspondiente a algoritmos enumerativos: ramificación y poda.\n",
    "</p>\n",
    "\n",
    "<p>\n",
    "La entrega tiene que consistir en un solo fichero **.ipynb** con el nombre: AA\\_*Apellido1Apellido2*_*Nombre*_en1.ipyn\n",
    "</p>"
   ]
  }
 ],
 "metadata": {
  "kernelspec": {
   "display_name": "Python [Root]",
   "language": "python",
   "name": "Python [Root]"
  },
  "language_info": {
   "codemirror_mode": {
    "name": "ipython",
    "version": 2
   },
   "file_extension": ".py",
   "mimetype": "text/x-python",
   "name": "python",
   "nbconvert_exporter": "python",
   "pygments_lexer": "ipython2",
   "version": "2.7.12"
  }
 },
 "nbformat": 4,
 "nbformat_minor": 0
}
