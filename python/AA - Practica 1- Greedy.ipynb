{
 "cells": [
  {
   "cell_type": "markdown",
   "metadata": {},
   "source": [
    "<div style=\"padding:30px; color: white; background-color: #0071CD\">\n",
    "<center>\n",
    "<img src=\"img/logoUB.jpeg\"></img>\n",
    "<center>\n",
    "<p>\n",
    "<h1>Algorísmica Avançada</h1>\n",
    "<h2>Pràctica 1 - Greedy Algorithms </h2>\n",
    "</center>\n",
    "</p>\n",
    "</div>"
   ]
  },
  {
   "cell_type": "markdown",
   "metadata": {},
   "source": [
    "<div class=\"alert alert-info\">\n",
    "<center>\n",
    "  <h1>Introducción</h1>\n",
    "</center>"
   ]
  },
  {
   "cell_type": "code",
   "execution_count": null,
   "metadata": {
    "collapsed": false
   },
   "outputs": [],
   "source": [
    "%matplotlib inline\n",
    "import numpy as np\n",
    "import networkx as nx\n",
    "import matplotlib.pyplot as plt\n",
    "from util import get_metro_graph, draw_metro_graph, get_path_subgraph"
   ]
  },
  {
   "cell_type": "markdown",
   "metadata": {},
   "source": [
    "En esta práctica estudiaremos los algoritmos greedy, que se basan en seguir una heurística consistente en escoger la opción óptima en cada paso local con la esperanza de llegar a una solución general óptima.\n",
    "\n",
    "El siguiente ejemplo ilustra un problema típico que podemos resolver de una forma óptima con una heurística. El problema se define por un conjunto de monedas S, y una cantidad K a la que queremos llegar con ese conjunto de monedas (__Cashier's Problem__). "
   ]
  },
  {
   "cell_type": "code",
   "execution_count": null,
   "metadata": {
    "collapsed": false
   },
   "outputs": [],
   "source": [
    "def cambio(importe):\n",
    "    # Definimos el valor de los billetes y monedas disponibles: 500€, 200€, 100€...\n",
    "    value = [50000,20000,10000,5000,2000,1000,500,200,100,50,20,10,5,2,1]\n",
    "    \n",
    "    # Creamos el array vacio para la solución\n",
    "    distribucion = np.zeros(15).astype(int)\n",
    "    \n",
    "    importe = importe*100\n",
    "    \n",
    "    for i in range(15):\n",
    "        # El numero de elementos de cada valor lo definimos con la división entera: importe/valor\n",
    "        distribucion[i] = importe/value[i]\n",
    "        # El importe acomulado pasa a ser el modulo de la división anterior\n",
    "        importe %= value[i]\n",
    "        \n",
    "    return list(distribucion)"
   ]
  },
  {
   "cell_type": "markdown",
   "metadata": {},
   "source": [
    "El algoritmo anterior, propuesto para un número infinito de monedas y billetes de cada tipo muestra como efectivamente, la decisión que tomamos en cada paso del algoritmo pertenece a la solución del problema."
   ]
  },
  {
   "cell_type": "code",
   "execution_count": null,
   "metadata": {
    "collapsed": false
   },
   "outputs": [],
   "source": [
    "def fancyprint(arr):\n",
    "    assert type(arr) == list and len(arr) == 15\n",
    "    curr = [\"billete<s> de 500€\",\"billete<s> de 200€\",\"billete<s> de 100€\",\"billete<s> de 50€\",\"billete<s> de 20€\",\n",
    "        \"billete<s> de 10€\",\"billete<s> de 5€\",\"moneda<s> de 2€\",\"moneda<s> de 1€\",\"moneda<s> de 50cts\",\n",
    "        \"moneda<s> de 20cts\",\"moneda<s> de 10cts\",\"moneda<s> de 5cts\",\"moneda<s> de 2cts\",\"moneda<s> de 1cts\"]\n",
    "    for i in range(len(arr)):\n",
    "        if arr[i] == 0:\n",
    "            continue\n",
    "        if arr[i] == 1:print \"- \", arr[i], curr[i].replace(\"<s>\", \"\")\n",
    "        else: print \"- \", arr[i], curr[i].replace(\"<s>\", \"s\")\n",
    "            \n",
    "fancyprint(cambio(991.35))"
   ]
  },
  {
   "cell_type": "markdown",
   "metadata": {},
   "source": [
    "<div class=\"alert alert-info\">\n",
    "<center>\n",
    "  <h1>Contenido</h1>\n",
    "  </center><p>\n",
    "\n"
   ]
  },
  {
   "cell_type": "markdown",
   "metadata": {},
   "source": [
    "\n",
    "<div class=\"alert alert-success\" style=\"width:90%; margin:0 auto;\">\n",
    "  <h2><p>1- Calculador de horarios</p></h2>\n",
    "  \n",
    "  <div class=\"row\">\n",
    "  <div class=\"col-sm-9\">\n",
    "  <p style=\"text-align: justify; padding-right: 30px\">\n",
    "  En este ejercicio nos disponemos a elaborar los horarios de los conductores de metro. Supongamos que los periodos de trabajo son de <b>35'</b>, <b>20'</b>, <b>15'</b> y <b>30'</b> durante las dos horas de hora punta y que el tiempo mínimo de descanso entre periodo y periodo es de <b>5'</b>.\n",
    "  </p>\n",
    "    <p style=\"text-align: justify; padding-right: 30px\">\n",
    "  Al final de la ejecución del programa querremos saber cuánto tiempo han estado los trenes parados (Es decir, cuanto tiempo ha pasado un tren sin conductor) y cuantos periodos de los conductores han quedado sin usar. \n",
    "  </p>\n",
    "  </div>\n",
    "  <div class=\"col-sm-3\">\n",
    "  <img src=\"img/work.jpg\"></img>\n",
    "  </div>\n"
   ]
  },
  {
   "cell_type": "markdown",
   "metadata": {},
   "source": [
    "\n",
    "<div class=\"alert alert-warning\" style=\"width:90%; margin:0 auto;\">\n",
    "    <h2><p>Ejemplo de ejecución</p></h2>\n",
    "\n",
    "    <div class=\"row\">\n",
    "        <div class=\"col-sm-5\">\n",
    "            <p style=\"text-align: justify; padding-right: 30px\">\n",
    "                (1) Iniciamos la ejecución del código con la lista de los periodos pendientes en cada uno de los conductores llena. \n",
    "            </p>\n",
    "        </div>\n",
    "        <div class=\"col-sm-7\">\n",
    "            <img src=\"img/0.png\"></img>\n",
    "        </div>\n",
    "    </div>\n",
    "    <div class=\"row\" style=\"padding-top:30px;\">\n",
    "        <div class=\"col-sm-5\">\n",
    "            <p style=\"text-align: justify; padding-right: 30px\">\n",
    "                (2) Añadimos driver1 a train1 por un periodo de 15' y a driver2 a train2 por un periodo de 20'\n",
    "            </p>\n",
    "        </div>\n",
    "        <div class=\"col-sm-7\">\n",
    "            <img src=\"img/1.png\"></img>\n",
    "        </div>\n",
    "    </div>\n",
    "    <div class=\"row\" style=\"padding-top:30px;\">\n",
    "        <div class=\"col-sm-5\">\n",
    "            <p style=\"text-align: justify; padding-right: 30px\">\n",
    "                (3) Cuando driver1 acaba su periodo en train1 no hay ningún conductor disponible para ocupar su posición, así que tenemos que esperar los 5' del periodo de descanso y luego volvemos a añadir driver1 a train1\n",
    "            </p>\n",
    "        </div>\n",
    "        <div class=\"col-sm-7\">\n",
    "            <img src=\"img/3.png\"></img>\n",
    "        </div>\n",
    "    </div>\n",
    "    <div class=\"row\" style=\"padding-top:30px;\">\n",
    "        <div class=\"col-sm-5\">\n",
    "            <p style=\"text-align: justify; padding-right: 30px\">\n",
    "                (N) A lo largo de las N iteraciones vamos colocando el conductor libre en el tren libre durante un periodo de tiempo determinado, respetando los periodos de descanso. Cuando hemos acabado tenemos que: \n",
    "                <ul>\n",
    "                <li>**perdida_trenes = 20'** (5'+5'+5'+5')</li>\n",
    "                <li>**perdida_conductores = 65'** (30'+35')</li>\n",
    "                </ul>\n",
    "            </p>\n",
    "        </div>\n",
    "        <div class=\"col-sm-7\">\n",
    "            <img src=\"img/5.png\"></img>\n",
    "        </div>\n",
    "    </div>\n",
    "\n",
    "</div>\n"
   ]
  },
  {
   "cell_type": "markdown",
   "metadata": {},
   "source": [
    "<div class=\"alert alert-danger\" style=\"width:80%; margin:0 auto; padding\">\n",
    "<center><p><h3> Código </h3></p> </center> \n",
    "\n",
    "<p>\n",
    "<h3>INPUT</h3>\n",
    "<ul>\n",
    "<li>__ntrenes__: El numero de trenes.</li>\n",
    "<li>__mconductores__: El numero de conductores.</li>\n",
    "<li>__periodos (opt)__: Lista con los periodos definidos en el enunciado.</li>\n",
    "<li>__descanso (opt)__: Tiempo mínimo de descanso entre periodo y periodo de trabajo.</li>\n",
    "<li>__tiempo (opt)__: El tiempo total en el que deben de estar en marcha los trenes.</li>\n",
    "</ul>\n",
    "<br>\n",
    "<h3>OUTPUT</h3>\n",
    "El output de una función es una tupla que contendrá los valores *( (**int**) perdida_trenes, (**int**) perdida_conductores)* en los cuales cuantificaremos, al final de la ejecución del algoritmo, el tiempo en el que un tren ha estado parado (*perdida_trenes*) y el tiempo que no hemos usado de los conductores (*perdida_conductores*). \n",
    "\n",
    "</p>\n",
    "\n",
    "</div>"
   ]
  },
  {
   "cell_type": "code",
   "execution_count": null,
   "metadata": {
    "collapsed": false
   },
   "outputs": [],
   "source": [
    "def calculador_horarios(ntrenes, \n",
    "                        mconductores, \n",
    "                        periodos=[15,20,30,35],\n",
    "                        descanso=5,\n",
    "                        tiempo=120):\n",
    "    return (0, 0)\n",
    "    "
   ]
  },
  {
   "cell_type": "markdown",
   "metadata": {},
   "source": [
    "<div class=\"alert alert-danger\" style=\"width:80%; margin:0 auto; padding\">\n",
    "<center><p><h3> Comentarios </h3></p> </center> \n",
    "\n",
    "</div>"
   ]
  },
  {
   "cell_type": "markdown",
   "metadata": {},
   "source": [
    "### En esta sección debéis responder a las preguntas siguientes:\n",
    "#### 1. ¿Cómo habéis implementado la función?\n",
    "#### 2. ¿En que configuración de _ntrenes_ y _mconductores_ obtenéis mejores resultados?\n",
    "#### 3. Análisis de complejidad de vuestra implementación\n",
    "#### 4. _(Opcional)_ Comentarios extra y pruebas realizadas con otras configuraciones de periodos, descanso y tiempo.\n",
    "\n",
    "## (Podéis contestar las preguntas en este mismo bloque)"
   ]
  },
  {
   "cell_type": "markdown",
   "metadata": {},
   "source": [
    "\n",
    "<div class=\"alert alert-success\" style=\"width:90%; margin:0 auto;\">\n",
    "  <h2><p>2- Calculador de ruta</p></h2>\n",
    "  \n",
    "  <div class=\"row\">\n",
    "  <div class=\"col-sm-9\">\n",
    "  <p style=\"text-align: justify; padding-right: 30px\">\n",
    "  Ahora queremos volver a calcular el camino mínimo entre dos estaciones de metro utilizando un algoritmo voraz. La restricción en este caso es que cualquier nodo que visitemos tendrá que formar parte del camino final, así que tendremos que definir una política que nos permita escoger el \"mejor\" vecino del nodo actual.\n",
    "  </p>\n",
    "    <p style=\"text-align: justify; padding-right: 30px\">\n",
    "Para la realización de este ejercicio se ha modificado la definición de las estaciones añadiendo la geolocalización de cada una de ellas como atributos de los nodos.\n",
    "  </p>\n",
    "  </div>\n",
    "  <div class=\"col-sm-3\">\n",
    "  <img src=\"img/plano.jpg\"></img>\n",
    "  </div>\n"
   ]
  },
  {
   "cell_type": "markdown",
   "metadata": {},
   "source": [
    "<div class=\"alert alert-danger\" style=\"width:80%; margin:0 auto; padding\">\n",
    "<center><p><h3> Código </h3></p> </center> \n",
    "\n",
    "<p>\n",
    "<h3>INPUT</h3>\n",
    "<ul>\n",
    "<li>__G__: Este es el grafo (en el caso de esta práctica la red de metro) que utilizaremos para buscar el camino. Debe de ser un objeto te tipo _networkx.Graph_.</li>\n",
    "<li>__origen__: Este parámetro corresponde al índice de un nodo. En este caso, como indexamos los nodos con el nombre de las paradas de Metro, deberá ser un String _(e.g. 'Tetuan')_.</li>\n",
    "<li>__destino__: El índice del nodo al que queremos llegar.</li>\n",
    "<li>... : Podéis añadir más parámetros opcionales en el caso que los necesitéis</li>\n",
    "</ul>\n",
    "<br>\n",
    "<h3>OUTPUT</h3>\n",
    "El output de una función es un diccionario que contiene los siguientes valores\n",
    "<ul>\n",
    "<li>__ _'path'_ __: Una lista de índices correspondientes al camino encontrado del nodo inicial al nodo final __ambos nodos, inicio y final, han de estar incluidos en esta lista__.</li>\n",
    "<li>__ _'distance'_ __: La distancia acumulada a lo largo del trayecto\n",
    "<ul>\n",
    "\n",
    "</p>\n",
    "\n",
    "</div>"
   ]
  },
  {
   "cell_type": "code",
   "execution_count": null,
   "metadata": {
    "collapsed": false
   },
   "outputs": [],
   "source": [
    "# Carga del fichero CSV con los datos\n",
    "G = get_metro_graph('csv/lineasmetro.csv')\n",
    "draw_metro_graph(G, figsize=(10,10))"
   ]
  },
  {
   "cell_type": "code",
   "execution_count": null,
   "metadata": {
    "collapsed": false
   },
   "outputs": [],
   "source": [
    "def calculador_ruta(G, inicio, destino):\n",
    "    return {\n",
    "        'path': [],\n",
    "        'distance': 0\n",
    "    }"
   ]
  },
  {
   "cell_type": "markdown",
   "metadata": {},
   "source": [
    "<div class=\"alert alert-danger\" style=\"width:80%; margin:0 auto; padding\">\n",
    "<center><p><h3> Comentarios </h3></p> </center> </div>"
   ]
  },
  {
   "cell_type": "markdown",
   "metadata": {},
   "source": [
    "### En esta sección debéis responder a las preguntas siguientes:\n",
    "#### 1. ¿Cómo habéis implementado la función?\n",
    "#### 2. ¿La solución retorna un camino óptimo?\n",
    "#### 3. Análisis de complejidad de vuestra implementación\n",
    "#### 4. _(Opcional)_ Comentarios extra y pruebas de optimalidad/eficiencia realizadas contra BFS o Dijkstra\n",
    "\n",
    "## (Podéis contestar las preguntas en este mismo bloque)"
   ]
  },
  {
   "cell_type": "markdown",
   "metadata": {},
   "source": [
    "<div class=\"alert alert-info\">\n",
    "<center>\n",
    "  <h1>Entrega</h1>\n",
    "</center>\n",
    "<p>\n",
    "La entrega de esta práctica tiene como fecha límite el **domingo, 13 de noviembre de 2016 a las 23:55**. En el campus virtual deberéis subir este fichero con las funciones implementadas y las secciones de comentarios debidamente rellenadas. Si queréis también podéis añadir tests extras que den soporte a los comentarios realizados.\n",
    "</p>\n",
    "\n",
    "<p>\n",
    "Este fichero es la parte 2/2 de la práctica, correspondiente a algoritmos greedy.\n",
    "</p>"
   ]
  }
 ],
 "metadata": {
  "kernelspec": {
   "display_name": "Python 2",
   "language": "python",
   "name": "python2"
  },
  "language_info": {
   "codemirror_mode": {
    "name": "ipython",
    "version": 2
   },
   "file_extension": ".py",
   "mimetype": "text/x-python",
   "name": "python",
   "nbconvert_exporter": "python",
   "pygments_lexer": "ipython2",
   "version": "2.7.12"
  }
 },
 "nbformat": 4,
 "nbformat_minor": 0
}
